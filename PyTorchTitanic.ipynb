{
  "nbformat": 4,
  "nbformat_minor": 0,
  "metadata": {
    "colab": {
      "name": "PyTorchTitanic.ipynb",
      "provenance": [],
      "collapsed_sections": []
    },
    "kernelspec": {
      "name": "python3",
      "display_name": "Python 3"
    },
    "language_info": {
      "name": "python"
    },
    "accelerator": "GPU"
  },
  "cells": [
    {
      "cell_type": "code",
      "metadata": {
        "id": "HEyIU0QFS4uG"
      },
      "source": [
        "import matplotlib\n",
        "import matplotlib.pyplot as plt\n",
        "import pandas as pd\n",
        "import numpy as np\n",
        "import torch\n",
        "from torch import optim\n",
        "from sklearn.utils import shuffle\n",
        "from torch.autograd import Variable\n",
        "from torch import nn\n",
        "from sklearn import preprocessing\n",
        "from sklearn.model_selection import train_test_split\n",
        "from sklearn.metrics import plot_confusion_matrix\n",
        "from sklearn.metrics import confusion_matrix\n",
        "from sklearn.metrics import precision_score, recall_score,f1_score\n",
        "from sklearn.metrics import ConfusionMatrixDisplay"
      ],
      "execution_count": 1,
      "outputs": []
    },
    {
      "cell_type": "code",
      "metadata": {
        "colab": {
          "base_uri": "https://localhost:8080/"
        },
        "id": "6Z1HkRr0TrWa",
        "outputId": "166c59da-acba-44f0-c92a-59da15fc4742"
      },
      "source": [
        "print(f'matplotlib: {matplotlib.__version__}')\n",
        "print(f'pytorch   : {torch.__version__}')\n",
        "print(f'pandas    : {pd.__version__}')\n",
        "print(f'numpy     : {np.__version__}')"
      ],
      "execution_count": 2,
      "outputs": [
        {
          "output_type": "stream",
          "text": [
            "matplotlib: 3.2.2\n",
            "pytorch   : 1.8.1+cu101\n",
            "pandas    : 1.1.5\n",
            "numpy     : 1.19.5\n"
          ],
          "name": "stdout"
        }
      ]
    },
    {
      "cell_type": "code",
      "metadata": {
        "colab": {
          "base_uri": "https://localhost:8080/",
          "height": 297
        },
        "id": "IvgM9gZkS6kM",
        "outputId": "d7308448-282a-41fc-8d37-744016bbf110"
      },
      "source": [
        "df = pd.read_csv(\"titanic.csv\")\n",
        "df.describe()"
      ],
      "execution_count": 3,
      "outputs": [
        {
          "output_type": "execute_result",
          "data": {
            "text/html": [
              "<div>\n",
              "<style scoped>\n",
              "    .dataframe tbody tr th:only-of-type {\n",
              "        vertical-align: middle;\n",
              "    }\n",
              "\n",
              "    .dataframe tbody tr th {\n",
              "        vertical-align: top;\n",
              "    }\n",
              "\n",
              "    .dataframe thead th {\n",
              "        text-align: right;\n",
              "    }\n",
              "</style>\n",
              "<table border=\"1\" class=\"dataframe\">\n",
              "  <thead>\n",
              "    <tr style=\"text-align: right;\">\n",
              "      <th></th>\n",
              "      <th>PassengerId</th>\n",
              "      <th>Survived</th>\n",
              "      <th>Pclass</th>\n",
              "      <th>Age</th>\n",
              "      <th>SibSp</th>\n",
              "      <th>Parch</th>\n",
              "      <th>Fare</th>\n",
              "    </tr>\n",
              "  </thead>\n",
              "  <tbody>\n",
              "    <tr>\n",
              "      <th>count</th>\n",
              "      <td>891.000000</td>\n",
              "      <td>891.000000</td>\n",
              "      <td>891.000000</td>\n",
              "      <td>714.000000</td>\n",
              "      <td>891.000000</td>\n",
              "      <td>891.000000</td>\n",
              "      <td>891.000000</td>\n",
              "    </tr>\n",
              "    <tr>\n",
              "      <th>mean</th>\n",
              "      <td>446.000000</td>\n",
              "      <td>0.383838</td>\n",
              "      <td>2.308642</td>\n",
              "      <td>29.699118</td>\n",
              "      <td>0.523008</td>\n",
              "      <td>0.381594</td>\n",
              "      <td>32.204208</td>\n",
              "    </tr>\n",
              "    <tr>\n",
              "      <th>std</th>\n",
              "      <td>257.353842</td>\n",
              "      <td>0.486592</td>\n",
              "      <td>0.836071</td>\n",
              "      <td>14.526497</td>\n",
              "      <td>1.102743</td>\n",
              "      <td>0.806057</td>\n",
              "      <td>49.693429</td>\n",
              "    </tr>\n",
              "    <tr>\n",
              "      <th>min</th>\n",
              "      <td>1.000000</td>\n",
              "      <td>0.000000</td>\n",
              "      <td>1.000000</td>\n",
              "      <td>0.420000</td>\n",
              "      <td>0.000000</td>\n",
              "      <td>0.000000</td>\n",
              "      <td>0.000000</td>\n",
              "    </tr>\n",
              "    <tr>\n",
              "      <th>25%</th>\n",
              "      <td>223.500000</td>\n",
              "      <td>0.000000</td>\n",
              "      <td>2.000000</td>\n",
              "      <td>20.125000</td>\n",
              "      <td>0.000000</td>\n",
              "      <td>0.000000</td>\n",
              "      <td>7.910400</td>\n",
              "    </tr>\n",
              "    <tr>\n",
              "      <th>50%</th>\n",
              "      <td>446.000000</td>\n",
              "      <td>0.000000</td>\n",
              "      <td>3.000000</td>\n",
              "      <td>28.000000</td>\n",
              "      <td>0.000000</td>\n",
              "      <td>0.000000</td>\n",
              "      <td>14.454200</td>\n",
              "    </tr>\n",
              "    <tr>\n",
              "      <th>75%</th>\n",
              "      <td>668.500000</td>\n",
              "      <td>1.000000</td>\n",
              "      <td>3.000000</td>\n",
              "      <td>38.000000</td>\n",
              "      <td>1.000000</td>\n",
              "      <td>0.000000</td>\n",
              "      <td>31.000000</td>\n",
              "    </tr>\n",
              "    <tr>\n",
              "      <th>max</th>\n",
              "      <td>891.000000</td>\n",
              "      <td>1.000000</td>\n",
              "      <td>3.000000</td>\n",
              "      <td>80.000000</td>\n",
              "      <td>8.000000</td>\n",
              "      <td>6.000000</td>\n",
              "      <td>512.329200</td>\n",
              "    </tr>\n",
              "  </tbody>\n",
              "</table>\n",
              "</div>"
            ],
            "text/plain": [
              "       PassengerId    Survived      Pclass  ...       SibSp       Parch        Fare\n",
              "count   891.000000  891.000000  891.000000  ...  891.000000  891.000000  891.000000\n",
              "mean    446.000000    0.383838    2.308642  ...    0.523008    0.381594   32.204208\n",
              "std     257.353842    0.486592    0.836071  ...    1.102743    0.806057   49.693429\n",
              "min       1.000000    0.000000    1.000000  ...    0.000000    0.000000    0.000000\n",
              "25%     223.500000    0.000000    2.000000  ...    0.000000    0.000000    7.910400\n",
              "50%     446.000000    0.000000    3.000000  ...    0.000000    0.000000   14.454200\n",
              "75%     668.500000    1.000000    3.000000  ...    1.000000    0.000000   31.000000\n",
              "max     891.000000    1.000000    3.000000  ...    8.000000    6.000000  512.329200\n",
              "\n",
              "[8 rows x 7 columns]"
            ]
          },
          "metadata": {
            "tags": []
          },
          "execution_count": 3
        }
      ]
    },
    {
      "cell_type": "code",
      "metadata": {
        "colab": {
          "base_uri": "https://localhost:8080/",
          "height": 297
        },
        "id": "QCOt31gpTCUL",
        "outputId": "161387f1-dffe-409c-b62b-f71c1f576e43"
      },
      "source": [
        "def format_feats(in_feats):\n",
        "    x = in_feats.values \n",
        "    min_max_scaler = preprocessing.MinMaxScaler()\n",
        "    x_scaled = min_max_scaler.fit_transform(x)\n",
        "    return pd.DataFrame(x_scaled, columns=in_feats.columns)\n",
        "\n",
        "def format_data(data):\n",
        "    data = pd.get_dummies(data, columns=['Sex','Embarked'])\n",
        "    data = data.drop(['Name','Ticket','Cabin'], axis=1)\n",
        "    data.fillna(data.mean(), inplace=True)\n",
        "    if 'Survived' in data.columns:\n",
        "        data_y = data['Survived']\n",
        "        data_x = data.drop(['Survived'], axis=1)\n",
        "        data_x = format_feats(data_x)\n",
        "        return data_x, data_y\n",
        "    else:\n",
        "        return format_feats(data)\n",
        "\n",
        "feats, labels = format_data(df)\n",
        "feats.describe()"
      ],
      "execution_count": 4,
      "outputs": [
        {
          "output_type": "execute_result",
          "data": {
            "text/html": [
              "<div>\n",
              "<style scoped>\n",
              "    .dataframe tbody tr th:only-of-type {\n",
              "        vertical-align: middle;\n",
              "    }\n",
              "\n",
              "    .dataframe tbody tr th {\n",
              "        vertical-align: top;\n",
              "    }\n",
              "\n",
              "    .dataframe thead th {\n",
              "        text-align: right;\n",
              "    }\n",
              "</style>\n",
              "<table border=\"1\" class=\"dataframe\">\n",
              "  <thead>\n",
              "    <tr style=\"text-align: right;\">\n",
              "      <th></th>\n",
              "      <th>PassengerId</th>\n",
              "      <th>Pclass</th>\n",
              "      <th>Age</th>\n",
              "      <th>SibSp</th>\n",
              "      <th>Parch</th>\n",
              "      <th>Fare</th>\n",
              "      <th>Sex_female</th>\n",
              "      <th>Sex_male</th>\n",
              "      <th>Embarked_C</th>\n",
              "      <th>Embarked_Q</th>\n",
              "      <th>Embarked_S</th>\n",
              "    </tr>\n",
              "  </thead>\n",
              "  <tbody>\n",
              "    <tr>\n",
              "      <th>count</th>\n",
              "      <td>891.000000</td>\n",
              "      <td>891.000000</td>\n",
              "      <td>891.000000</td>\n",
              "      <td>891.000000</td>\n",
              "      <td>891.000000</td>\n",
              "      <td>891.000000</td>\n",
              "      <td>891.000000</td>\n",
              "      <td>891.000000</td>\n",
              "      <td>891.000000</td>\n",
              "      <td>891.000000</td>\n",
              "      <td>891.000000</td>\n",
              "    </tr>\n",
              "    <tr>\n",
              "      <th>mean</th>\n",
              "      <td>0.500000</td>\n",
              "      <td>0.654321</td>\n",
              "      <td>0.367921</td>\n",
              "      <td>0.065376</td>\n",
              "      <td>0.063599</td>\n",
              "      <td>0.062858</td>\n",
              "      <td>0.352413</td>\n",
              "      <td>0.647587</td>\n",
              "      <td>0.188552</td>\n",
              "      <td>0.086420</td>\n",
              "      <td>0.722783</td>\n",
              "    </tr>\n",
              "    <tr>\n",
              "      <th>std</th>\n",
              "      <td>0.289162</td>\n",
              "      <td>0.418036</td>\n",
              "      <td>0.163383</td>\n",
              "      <td>0.137843</td>\n",
              "      <td>0.134343</td>\n",
              "      <td>0.096995</td>\n",
              "      <td>0.477990</td>\n",
              "      <td>0.477990</td>\n",
              "      <td>0.391372</td>\n",
              "      <td>0.281141</td>\n",
              "      <td>0.447876</td>\n",
              "    </tr>\n",
              "    <tr>\n",
              "      <th>min</th>\n",
              "      <td>0.000000</td>\n",
              "      <td>0.000000</td>\n",
              "      <td>0.000000</td>\n",
              "      <td>0.000000</td>\n",
              "      <td>0.000000</td>\n",
              "      <td>0.000000</td>\n",
              "      <td>0.000000</td>\n",
              "      <td>0.000000</td>\n",
              "      <td>0.000000</td>\n",
              "      <td>0.000000</td>\n",
              "      <td>0.000000</td>\n",
              "    </tr>\n",
              "    <tr>\n",
              "      <th>25%</th>\n",
              "      <td>0.250000</td>\n",
              "      <td>0.500000</td>\n",
              "      <td>0.271174</td>\n",
              "      <td>0.000000</td>\n",
              "      <td>0.000000</td>\n",
              "      <td>0.015440</td>\n",
              "      <td>0.000000</td>\n",
              "      <td>0.000000</td>\n",
              "      <td>0.000000</td>\n",
              "      <td>0.000000</td>\n",
              "      <td>0.000000</td>\n",
              "    </tr>\n",
              "    <tr>\n",
              "      <th>50%</th>\n",
              "      <td>0.500000</td>\n",
              "      <td>1.000000</td>\n",
              "      <td>0.367921</td>\n",
              "      <td>0.000000</td>\n",
              "      <td>0.000000</td>\n",
              "      <td>0.028213</td>\n",
              "      <td>0.000000</td>\n",
              "      <td>1.000000</td>\n",
              "      <td>0.000000</td>\n",
              "      <td>0.000000</td>\n",
              "      <td>1.000000</td>\n",
              "    </tr>\n",
              "    <tr>\n",
              "      <th>75%</th>\n",
              "      <td>0.750000</td>\n",
              "      <td>1.000000</td>\n",
              "      <td>0.434531</td>\n",
              "      <td>0.125000</td>\n",
              "      <td>0.000000</td>\n",
              "      <td>0.060508</td>\n",
              "      <td>1.000000</td>\n",
              "      <td>1.000000</td>\n",
              "      <td>0.000000</td>\n",
              "      <td>0.000000</td>\n",
              "      <td>1.000000</td>\n",
              "    </tr>\n",
              "    <tr>\n",
              "      <th>max</th>\n",
              "      <td>1.000000</td>\n",
              "      <td>1.000000</td>\n",
              "      <td>1.000000</td>\n",
              "      <td>1.000000</td>\n",
              "      <td>1.000000</td>\n",
              "      <td>1.000000</td>\n",
              "      <td>1.000000</td>\n",
              "      <td>1.000000</td>\n",
              "      <td>1.000000</td>\n",
              "      <td>1.000000</td>\n",
              "      <td>1.000000</td>\n",
              "    </tr>\n",
              "  </tbody>\n",
              "</table>\n",
              "</div>"
            ],
            "text/plain": [
              "       PassengerId      Pclass         Age  ...  Embarked_C  Embarked_Q  Embarked_S\n",
              "count   891.000000  891.000000  891.000000  ...  891.000000  891.000000  891.000000\n",
              "mean      0.500000    0.654321    0.367921  ...    0.188552    0.086420    0.722783\n",
              "std       0.289162    0.418036    0.163383  ...    0.391372    0.281141    0.447876\n",
              "min       0.000000    0.000000    0.000000  ...    0.000000    0.000000    0.000000\n",
              "25%       0.250000    0.500000    0.271174  ...    0.000000    0.000000    0.000000\n",
              "50%       0.500000    1.000000    0.367921  ...    0.000000    0.000000    1.000000\n",
              "75%       0.750000    1.000000    0.434531  ...    0.000000    0.000000    1.000000\n",
              "max       1.000000    1.000000    1.000000  ...    1.000000    1.000000    1.000000\n",
              "\n",
              "[8 rows x 11 columns]"
            ]
          },
          "metadata": {
            "tags": []
          },
          "execution_count": 4
        }
      ]
    },
    {
      "cell_type": "code",
      "metadata": {
        "id": "8gnR44v4TDgN"
      },
      "source": [
        "train_X, test_X, train_y, test_y = train_test_split(\n",
        "    feats, labels, test_size=0.2, random_state=2, stratify=labels)"
      ],
      "execution_count": 5,
      "outputs": []
    },
    {
      "cell_type": "code",
      "metadata": {
        "id": "sH7wu1AuTFHq"
      },
      "source": [
        "trn_X = torch.Tensor(train_X.to_numpy())\n",
        "trn_y = torch.Tensor(train_y.to_numpy()).type(torch.LongTensor)\n",
        "tst_X = torch.Tensor(test_X.to_numpy())\n",
        "tst_y = torch.Tensor(test_y.to_numpy()).type(torch.LongTensor)"
      ],
      "execution_count": 6,
      "outputs": []
    },
    {
      "cell_type": "code",
      "metadata": {
        "colab": {
          "base_uri": "https://localhost:8080/"
        },
        "id": "ufI8WuXHVIzV",
        "outputId": "aaf798e1-540a-45b1-90c2-9a09d81fa81e"
      },
      "source": [
        "device = 'cuda' if torch.cuda.is_available() else 'cpu'\n",
        "print('Using {} device'.format(device))"
      ],
      "execution_count": 7,
      "outputs": [
        {
          "output_type": "stream",
          "text": [
            "Using cuda device\n"
          ],
          "name": "stdout"
        }
      ]
    },
    {
      "cell_type": "code",
      "metadata": {
        "id": "4rdYlnjOTF-o"
      },
      "source": [
        "drpout = 0.2\n",
        "inputs = len(trn_X[0])\n",
        "\n",
        "def set_weight_bias(layer):\n",
        "    layer.bias.data.fill_(0)\n",
        "    layer.weight.data.normal_(std=0.01)\n",
        "\n",
        "def construct_model(inputs, n=[32], outputs=2,\n",
        "                    activ=nn.ReLU):\n",
        "    n.append(outputs)\n",
        "    \n",
        "    layers = []\n",
        "    layers.append(nn.Linear(inputs, n[0]))\n",
        "    set_weight_bias(layers[-1])\n",
        "    layers.append( nn.Dropout(p=drpout) )\n",
        "    layers.append(activ())\n",
        "    \n",
        "    for i in range(len(n)-1):\n",
        "        layers.append(nn.Linear(n[i], n[i+1]))\n",
        "        set_weight_bias(layers[-1])\n",
        "        layers.append(nn.Dropout(p=drpout))\n",
        "        layers.append(activ())\n",
        "        \n",
        "    layers.pop()\n",
        "    layers.pop()\n",
        "    \n",
        "    return nn.Sequential(*layers)"
      ],
      "execution_count": 8,
      "outputs": []
    },
    {
      "cell_type": "code",
      "metadata": {
        "id": "wmWJOZG25Vk_"
      },
      "source": [
        "def create_plots(train_losses, test_losses, test_data, accuracy):\n",
        "  \n",
        "    plt.subplot(211)\n",
        "    plt.ylabel('Accuracy')\n",
        "    plt.plot(accuracy)\n",
        "    plt.subplot(212)\n",
        "    plt.ylabel('Loss')\n",
        "    plt.plot(train_losses, label='train')\n",
        "    plt.plot(test_losses, label='test')\n",
        "    plt.legend();\n",
        "\n",
        "    y_pred = model(test_data[0])\n",
        "    y_pred = y_pred.to('cpu')\n",
        "    y_hat=torch.argmax(y_pred, dim=1)\n",
        "    \n",
        "    titles_options = [(\"Confusion matrix, without normalization\", None),\n",
        "                  (\"Normalized confusion matrix\", 'true')]\n",
        "    class_names=[\"survived\", \"not survived\"]\n",
        "    conf=confusion_matrix(test_data[1], y_hat)\n",
        "\n",
        "    print(f\"\\n\\nprecision: {precision_score(test_data[1], y_hat, average='weighted')}\")\n",
        "    print(f\"recall: {recall_score(test_data[1], y_hat, average='weighted')}\")\n",
        "    print(f\"f1 score: {f1_score(test_data[1], y_hat, average='weighted')}\")\n",
        "\n",
        "    cmd = ConfusionMatrixDisplay(conf, display_labels=class_names)\n",
        "    cmd.plot()\n",
        "    cm = confusion_matrix(test_data[1], y_hat, normalize='all')\n",
        "    cm"
      ],
      "execution_count": 9,
      "outputs": []
    },
    {
      "cell_type": "code",
      "metadata": {
        "id": "tuO3ZhfPTKhZ"
      },
      "source": [
        "def train_model(model, train_data, test_data, epochs=5, verbose=False):\n",
        "    \n",
        "    criterion = nn.CrossEntropyLoss()\n",
        "    optimizer = optim.Adam(model.parameters(), lr=0.01)\n",
        "    \n",
        "    train_losses, test_losses = [0]*epochs, [0]*epochs\n",
        "    accuracy = [0]*epochs\n",
        "\n",
        "    for e in range(epochs):\n",
        "        optimizer.zero_grad()\n",
        "        ps = model(train_data[0])\n",
        "        loss = criterion(ps, train_data[1])\n",
        "        loss.backward()\n",
        "        optimizer.step()\n",
        "        train_losses[e] = loss.item()\n",
        "\n",
        "        with torch.no_grad():\n",
        "            model.eval()\n",
        "            \n",
        "            ps = model(test_data[0])\n",
        "            loss = criterion(ps, test_data[1])\n",
        "            test_losses[e] = loss.item()\n",
        "            \n",
        "            top_p, top_class = ps.topk(1, dim=1)\n",
        "            equals = (top_class == test_data[1].view(*top_class.shape))\n",
        "            accuracy[e] = torch.mean(equals.type(torch.FloatTensor))\n",
        "            \n",
        "        model.train()\n",
        "        \n",
        "    print(f'   Accuracy  : {100*accuracy[-1].item():0.2f}%')\n",
        "    print(f'   Train loss: {train_losses[-1]}')\n",
        "    print(f'   Test loss : {test_losses[-1]}')\n",
        "\n",
        "    create_plots(train_losses, test_losses, test_data, accuracy)"
      ],
      "execution_count": 10,
      "outputs": []
    },
    {
      "cell_type": "code",
      "metadata": {
        "colab": {
          "base_uri": "https://localhost:8080/",
          "height": 784
        },
        "id": "m253PqbsTMl6",
        "outputId": "fd371545-f639-489e-b96f-fc93285ee34f"
      },
      "source": [
        "print(\"Test 1:\")\n",
        "model = construct_model(inputs, n=[256])\n",
        "print(model)\n",
        "\n",
        "train_model(model, epochs=100,\n",
        "            train_data=(trn_X,trn_y), test_data=(tst_X,tst_y))"
      ],
      "execution_count": 11,
      "outputs": [
        {
          "output_type": "stream",
          "text": [
            "Test 1:\n",
            "Sequential(\n",
            "  (0): Linear(in_features=11, out_features=256, bias=True)\n",
            "  (1): Dropout(p=0.2, inplace=False)\n",
            "  (2): ReLU()\n",
            "  (3): Linear(in_features=256, out_features=2, bias=True)\n",
            ")\n",
            "   Accuracy  : 81.56%\n",
            "   Train loss: 0.40118280053138733\n",
            "   Test loss : 0.44897639751434326\n",
            "\n",
            "\n",
            "precision: 0.8177653631284916\n",
            "recall: 0.8156424581005587\n",
            "f1 score: 0.8102848959073211\n"
          ],
          "name": "stdout"
        },
        {
          "output_type": "display_data",
          "data": {
            "image/png": "[encoded data removed]",
            "text/plain": [
              "<Figure size 432x288 with 2 Axes>"
            ]
          },
          "metadata": {
            "tags": [],
            "needs_background": "light"
          }
        },
        {
          "output_type": "display_data",
          "data": {
            "image/png": "[encoded data removed]",
            "text/plain": [
              "<Figure size 432x288 with 2 Axes>"
            ]
          },
          "metadata": {
            "tags": [],
            "needs_background": "light"
          }
        }
      ]
    },
    {
      "cell_type": "code",
      "metadata": {
        "colab": {
          "base_uri": "https://localhost:8080/",
          "height": 833
        },
        "id": "KQslWybmTN1W",
        "outputId": "7b6714c1-3c58-4c02-c90f-98d306fee69d"
      },
      "source": [
        "print(\"Test 2:\")\n",
        "model = construct_model(inputs, n=[256, 64])\n",
        "print(model)\n",
        "train_model(model, epochs=500,\n",
        "            train_data=(trn_X,trn_y), test_data=(tst_X,tst_y))"
      ],
      "execution_count": 12,
      "outputs": [
        {
          "output_type": "stream",
          "text": [
            "Test 2:\n",
            "Sequential(\n",
            "  (0): Linear(in_features=11, out_features=256, bias=True)\n",
            "  (1): Dropout(p=0.2, inplace=False)\n",
            "  (2): ReLU()\n",
            "  (3): Linear(in_features=256, out_features=64, bias=True)\n",
            "  (4): Dropout(p=0.2, inplace=False)\n",
            "  (5): ReLU()\n",
            "  (6): Linear(in_features=64, out_features=2, bias=True)\n",
            ")\n",
            "   Accuracy  : 79.33%\n",
            "   Train loss: 0.24078047275543213\n",
            "   Test loss : 0.5912138819694519\n",
            "\n",
            "\n",
            "precision: 0.7861573982579859\n",
            "recall: 0.7877094972067039\n",
            "f1 score: 0.783090697269083\n"
          ],
          "name": "stdout"
        },
        {
          "output_type": "display_data",
          "data": {
            "image/png": "[encoded data removed]",
            "text/plain": [
              "<Figure size 432x288 with 2 Axes>"
            ]
          },
          "metadata": {
            "tags": [],
            "needs_background": "light"
          }
        },
        {
          "output_type": "display_data",
          "data": {
            "image/png": "[encoded data removed]",
            "text/plain": [
              "<Figure size 432x288 with 2 Axes>"
            ]
          },
          "metadata": {
            "tags": [],
            "needs_background": "light"
          }
        }
      ]
    },
    {
      "cell_type": "code",
      "metadata": {
        "colab": {
          "base_uri": "https://localhost:8080/",
          "height": 782
        },
        "id": "4OOz37gCTPCU",
        "outputId": "4a92bb57-8b17-4b66-f2cf-e05e82ba42ea"
      },
      "source": [
        "print(\"Test 3:\")\n",
        "model = construct_model(inputs, n=[16])\n",
        "print(model)\n",
        "train_model(model, epochs=2000,\n",
        "            train_data=(trn_X,trn_y), test_data=(tst_X,tst_y))"
      ],
      "execution_count": 13,
      "outputs": [
        {
          "output_type": "stream",
          "text": [
            "Test 3:\n",
            "Sequential(\n",
            "  (0): Linear(in_features=11, out_features=16, bias=True)\n",
            "  (1): Dropout(p=0.2, inplace=False)\n",
            "  (2): ReLU()\n",
            "  (3): Linear(in_features=16, out_features=2, bias=True)\n",
            ")\n",
            "   Accuracy  : 80.45%\n",
            "   Train loss: 0.39611437916755676\n",
            "   Test loss : 0.4669460952281952\n",
            "\n",
            "\n",
            "precision: 0.7761615309839195\n",
            "recall: 0.776536312849162\n",
            "f1 score: 0.769457996557082\n"
          ],
          "name": "stdout"
        },
        {
          "output_type": "display_data",
          "data": {
            "image/png": "[encoded data removed]",
            "text/plain": [
              "<Figure size 432x288 with 2 Axes>"
            ]
          },
          "metadata": {
            "tags": [],
            "needs_background": "light"
          }
        },
        {
          "output_type": "display_data",
          "data": {
            "image/png": "[encoded data removed]",
            "text/plain": [
              "<Figure size 432x288 with 2 Axes>"
            ]
          },
          "metadata": {
            "tags": [],
            "needs_background": "light"
          }
        }
      ]
    }
  ]
}